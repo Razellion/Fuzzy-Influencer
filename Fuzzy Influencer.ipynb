{
 "cells": [
  {
   "cell_type": "markdown",
   "metadata": {},
   "source": [
    "## Import"
   ]
  },
  {
   "cell_type": "code",
   "execution_count": 1,
   "metadata": {},
   "outputs": [],
   "source": [
    "import pandas as pd\n",
    "import numpy as np\n",
    "import matplotlib.pyplot as plt\n",
    "import seaborn as sns"
   ]
  },
  {
   "cell_type": "markdown",
   "metadata": {},
   "source": [
    "## Read CSV"
   ]
  },
  {
   "cell_type": "code",
   "execution_count": 2,
   "metadata": {},
   "outputs": [],
   "source": [
    "def read_csv():\n",
    "    return pd.read_csv('influencers.csv', index_col = 'id')"
   ]
  },
  {
   "cell_type": "code",
   "execution_count": 3,
   "metadata": {
    "scrolled": false
   },
   "outputs": [],
   "source": [
    "data = read_csv()"
   ]
  },
  {
   "cell_type": "code",
   "execution_count": 4,
   "metadata": {
    "scrolled": true
   },
   "outputs": [
    {
     "data": {
      "text/html": [
       "<div>\n",
       "<style scoped>\n",
       "    .dataframe tbody tr th:only-of-type {\n",
       "        vertical-align: middle;\n",
       "    }\n",
       "\n",
       "    .dataframe tbody tr th {\n",
       "        vertical-align: top;\n",
       "    }\n",
       "\n",
       "    .dataframe thead th {\n",
       "        text-align: right;\n",
       "    }\n",
       "</style>\n",
       "<table border=\"1\" class=\"dataframe\">\n",
       "  <thead>\n",
       "    <tr style=\"text-align: right;\">\n",
       "      <th></th>\n",
       "      <th>followerCount</th>\n",
       "      <th>engagementRate</th>\n",
       "    </tr>\n",
       "    <tr>\n",
       "      <th>id</th>\n",
       "      <th></th>\n",
       "      <th></th>\n",
       "    </tr>\n",
       "  </thead>\n",
       "  <tbody>\n",
       "    <tr>\n",
       "      <td>1</td>\n",
       "      <td>6207</td>\n",
       "      <td>1.0</td>\n",
       "    </tr>\n",
       "    <tr>\n",
       "      <td>2</td>\n",
       "      <td>38237</td>\n",
       "      <td>5.8</td>\n",
       "    </tr>\n",
       "    <tr>\n",
       "      <td>3</td>\n",
       "      <td>14840</td>\n",
       "      <td>0.6</td>\n",
       "    </tr>\n",
       "    <tr>\n",
       "      <td>4</td>\n",
       "      <td>43851</td>\n",
       "      <td>1.4</td>\n",
       "    </tr>\n",
       "    <tr>\n",
       "      <td>5</td>\n",
       "      <td>15530</td>\n",
       "      <td>3.5</td>\n",
       "    </tr>\n",
       "  </tbody>\n",
       "</table>\n",
       "</div>"
      ],
      "text/plain": [
       "    followerCount  engagementRate\n",
       "id                               \n",
       "1            6207             1.0\n",
       "2           38237             5.8\n",
       "3           14840             0.6\n",
       "4           43851             1.4\n",
       "5           15530             3.5"
      ]
     },
     "execution_count": 4,
     "metadata": {},
     "output_type": "execute_result"
    }
   ],
   "source": [
    "data.head()"
   ]
  },
  {
   "cell_type": "code",
   "execution_count": 5,
   "metadata": {
    "scrolled": false
   },
   "outputs": [
    {
     "data": {
      "text/plain": [
       "<matplotlib.axes._subplots.AxesSubplot at 0x26bfe201bc8>"
      ]
     },
     "execution_count": 5,
     "metadata": {},
     "output_type": "execute_result"
    },
    {
     "data": {
      "image/png": "[encoded data removed]",
      "text/plain": [
       "<Figure size 432x288 with 1 Axes>"
      ]
     },
     "metadata": {
      "needs_background": "light"
     },
     "output_type": "display_data"
    }
   ],
   "source": [
    "data.plot.scatter(y='followerCount', x='engagementRate', c='DarkBlue')"
   ]
  },
  {
   "cell_type": "markdown",
   "metadata": {},
   "source": [
    "## Fuzzification"
   ]
  },
  {
   "cell_type": "code",
   "execution_count": 6,
   "metadata": {},
   "outputs": [],
   "source": [
    "def fuzzification(data_fol, data_eng):\n",
    "    val = dict()\n",
    "    foll_score = data_fol\n",
    "    val['low_fl'] = low_fol_calc(foll_score)\n",
    "    val['mid_fl'] = mid_fol_calc(foll_score)\n",
    "    val['hi_fl'] = hi_fol_calc(foll_score)\n",
    "    eng_score = data_eng\n",
    "    val['low_en'] = low_eng_calc(eng_score)\n",
    "    val['mid_en'] = mid_eng_calc(eng_score)\n",
    "    val['hi_en'] = hi_eng_calc(eng_score)\n",
    "    return val"
   ]
  },
  {
   "cell_type": "markdown",
   "metadata": {},
   "source": [
    "## Inference"
   ]
  },
  {
   "cell_type": "code",
   "execution_count": 7,
   "metadata": {},
   "outputs": [],
   "source": [
    "#Inference Rules\n",
    "#low follower low engagement = refused\n",
    "#mid follower low engagement = refused\n",
    "#high follower low engagement = considered\n",
    "\n",
    "#low follower mid engagement = refused\n",
    "#mid follower mid engagement = considered\n",
    "#high follower mid engagement = accept\n",
    "\n",
    "#low follower high engagement = considered\n",
    "#mid follower high engagement = accept\n",
    "#high follower high engagement = accept"
   ]
  },
  {
   "cell_type": "code",
   "execution_count": 8,
   "metadata": {},
   "outputs": [],
   "source": [
    "def inference(data):\n",
    "    list_ref=[]\n",
    "    list_con=[]\n",
    "    list_acc=[]\n",
    "    # low follower low engagement\n",
    "    if data['low_fl'] < data['low_en']:\n",
    "        list_ref.append(data['low_fl'])\n",
    "    else:\n",
    "        list_ref.append(data['low_en'])\n",
    "    # mid follower low engagement\n",
    "    if data['mid_fl'] < data['low_en']:\n",
    "        list_ref.append(data['mid_fl'])\n",
    "    else:\n",
    "        list_ref.append(data['low_en'])\n",
    "    # hi follower low engagement\n",
    "    if data['hi_fl'] < data['low_en']:\n",
    "        list_con.append(data['hi_fl'])\n",
    "    else:\n",
    "        list_con.append(data['low_en'])\n",
    "    # low follower mid engagement\n",
    "    if data['low_fl'] < data['mid_en']:\n",
    "        list_ref.append(data['low_fl'])\n",
    "    else:\n",
    "        list_ref.append(data['mid_en'])\n",
    "    # mid follower mid engagement\n",
    "    if data['mid_fl'] < data['mid_en']:\n",
    "        list_con.append(data['mid_fl'])\n",
    "    else:\n",
    "        list_con.append(data['mid_en'])\n",
    "    # hi follower mid engagement\n",
    "    if data['hi_fl'] < data['mid_en']:\n",
    "        list_acc.append(data['hi_fl'])\n",
    "    else:\n",
    "        list_acc.append(data['mid_en'])\n",
    "    # low follower hi engagement\n",
    "    if data['low_fl'] < data['hi_en']:\n",
    "        list_con.append(data['low_fl'])\n",
    "    else:\n",
    "        list_con.append(data['hi_en'])\n",
    "    # mid follower hi engagement\n",
    "    if data['mid_fl'] < data['hi_en']:\n",
    "        list_acc.append(data['mid_fl'])\n",
    "    else:\n",
    "        list_acc.append(data['hi_en'])\n",
    "    # hi follower hi engagement\n",
    "    if data['hi_fl'] < data['hi_en']:\n",
    "        list_acc.append(data['hi_fl'])\n",
    "    else:\n",
    "        list_acc.append(data['hi_en'])\n",
    "    return max(list_ref),max(list_con),max(list_acc)"
   ]
  },
  {
   "cell_type": "markdown",
   "metadata": {},
   "source": [
    "## Defuzzification"
   ]
  },
  {
   "cell_type": "code",
   "execution_count": 9,
   "metadata": {},
   "outputs": [],
   "source": [
    "def defuzzification(ref,con,acc):\n",
    "    score = (acc*100 + con*60 + ref*20)/(ref+acc+con)\n",
    "    return score"
   ]
  },
  {
   "cell_type": "markdown",
   "metadata": {},
   "source": [
    "## Membership Function Follower"
   ]
  },
  {
   "cell_type": "code",
   "execution_count": 10,
   "metadata": {},
   "outputs": [],
   "source": [
    "def low_fol_calc(data):\n",
    "    if data <= 10000:\n",
    "        score = 1\n",
    "    elif 10000 < data <= 20000:\n",
    "        score = (20000-data)/(20000-10000)\n",
    "    else:\n",
    "        score = 0\n",
    "    return score\n",
    "    \n",
    "def mid_fol_calc(data):\n",
    "    if  15000 < data <= 30000:\n",
    "        score = (data-15000)/(30000-15000)\n",
    "    elif 30000 < data <= 50000:\n",
    "        score = 1\n",
    "    elif 50000 < data <= 65000:\n",
    "        score = (65000-data)/(65000-50000)\n",
    "    else:\n",
    "        score = 0\n",
    "    return score\n",
    "\n",
    "def hi_fol_calc(data):\n",
    "    if data <= 50000:\n",
    "        score = 0\n",
    "    elif 50000 < data <= 70000:\n",
    "        score = (data-50000)/(70000-50000)\n",
    "    else:\n",
    "        score = 1\n",
    "    return score"
   ]
  },
  {
   "cell_type": "code",
   "execution_count": 11,
   "metadata": {},
   "outputs": [
    {
     "data": {
      "text/plain": [
       "[<matplotlib.lines.Line2D at 0x26bff60aa48>]"
      ]
     },
     "execution_count": 11,
     "metadata": {},
     "output_type": "execute_result"
    },
    {
     "data": {
      "image/png": "[encoded data removed]",
      "text/plain": [
       "<Figure size 432x288 with 1 Axes>"
      ]
     },
     "metadata": {
      "needs_background": "light"
     },
     "output_type": "display_data"
    }
   ],
   "source": [
    "plt.plot([low_fol_calc(i) for i in range(100001)])\n",
    "plt.plot([mid_fol_calc(i) for i in range(100001)])\n",
    "plt.plot([hi_fol_calc(i) for i in range(100001)])\n"
   ]
  },
  {
   "cell_type": "markdown",
   "metadata": {},
   "source": [
    "## Membership Function Engagement"
   ]
  },
  {
   "cell_type": "code",
   "execution_count": 12,
   "metadata": {},
   "outputs": [],
   "source": [
    "def low_eng_calc(data):\n",
    "    if data <= 1:\n",
    "        score = 1\n",
    "    elif 1 < data < 2.5:\n",
    "        score = (2.5-data)/(2.5-1)\n",
    "    else:\n",
    "        score = 0\n",
    "    return score\n",
    "        \n",
    "def mid_eng_calc(data):\n",
    "    if data > 2  and data <= 3.5:\n",
    "        score = (data-2)/(3.5-2)\n",
    "    elif 3.5 < data <= 6.5:\n",
    "        score = 1\n",
    "    elif 6.5 < data < 8:\n",
    "        score = (8-data)/(8-6.5)\n",
    "    else:\n",
    "        score = 0\n",
    "    return score\n",
    "\n",
    "def hi_eng_calc(data):\n",
    "    if data <= 7.5 :\n",
    "        score = 0\n",
    "    elif 7.5 < data < 8.5:\n",
    "        score = (data-7.5)/(8.5-7.5)\n",
    "    else:\n",
    "        score = 1\n",
    "    return score"
   ]
  },
  {
   "cell_type": "code",
   "execution_count": 13,
   "metadata": {},
   "outputs": [
    {
     "data": {
      "text/plain": [
       "[<matplotlib.lines.Line2D at 0x26bff9584c8>]"
      ]
     },
     "execution_count": 13,
     "metadata": {},
     "output_type": "execute_result"
    },
    {
     "data": {
      "image/png": "[encoded data removed]",
      "text/plain": [
       "<Figure size 432x288 with 1 Axes>"
      ]
     },
     "metadata": {
      "needs_background": "light"
     },
     "output_type": "display_data"
    }
   ],
   "source": [
    "plt.plot([low_eng_calc(i) for i in range(10)])\n",
    "plt.plot([mid_eng_calc(i) for i in range(10)])\n",
    "plt.plot([hi_eng_calc(i) for i in range(10)])"
   ]
  },
  {
   "cell_type": "markdown",
   "metadata": {},
   "source": [
    "## Main"
   ]
  },
  {
   "cell_type": "code",
   "execution_count": 14,
   "metadata": {},
   "outputs": [],
   "source": [
    "list_score=[]\n",
    "for i in range(1,101):\n",
    "    fuzzified = fuzzification(data['followerCount'][i],data['engagementRate'][i])\n",
    "    ref,con,acc = inference(fuzzified)\n",
    "    list_score.append(defuzzification(ref,con,acc))\n",
    "    "
   ]
  },
  {
   "cell_type": "code",
   "execution_count": 15,
   "metadata": {},
   "outputs": [],
   "source": [
    "data['score'] = list_score"
   ]
  },
  {
   "cell_type": "code",
   "execution_count": 16,
   "metadata": {},
   "outputs": [],
   "source": [
    "out = data.sort_values(by=['score','followerCount'],ascending=False)\n",
    "chosen = out.head(20)"
   ]
  },
  {
   "cell_type": "markdown",
   "metadata": {},
   "source": [
    "## Pick Best 20"
   ]
  },
  {
   "cell_type": "code",
   "execution_count": 17,
   "metadata": {},
   "outputs": [],
   "source": [
    "out.reset_index(inplace=True)"
   ]
  },
  {
   "cell_type": "code",
   "execution_count": 18,
   "metadata": {},
   "outputs": [],
   "source": [
    "out['sign'] = 0"
   ]
  },
  {
   "cell_type": "code",
   "execution_count": 19,
   "metadata": {},
   "outputs": [
    {
     "name": "stderr",
     "output_type": "stream",
     "text": [
      "C:\\Users\\rizkyy\\AppData\\Local\\Continuum\\anaconda3\\lib\\site-packages\\ipykernel_launcher.py:1: FutureWarning: \n",
      ".ix is deprecated. Please use\n",
      ".loc for label based indexing or\n",
      ".iloc for positional indexing\n",
      "\n",
      "See the documentation here:\n",
      "http://pandas.pydata.org/pandas-docs/stable/user_guide/indexing.html#ix-indexer-is-deprecated\n",
      "  \"\"\"Entry point for launching an IPython kernel.\n"
     ]
    }
   ],
   "source": [
    "out.ix[:20,'sign'] = 1"
   ]
  },
  {
   "cell_type": "code",
   "execution_count": 20,
   "metadata": {
    "scrolled": true
   },
   "outputs": [
    {
     "data": {
      "text/plain": [
       "<matplotlib.axes._subplots.AxesSubplot at 0x26bff5a2108>"
      ]
     },
     "execution_count": 20,
     "metadata": {},
     "output_type": "execute_result"
    },
    {
     "data": {
      "image/png": "[encoded data removed]",
      "text/plain": [
       "<Figure size 432x288 with 1 Axes>"
      ]
     },
     "metadata": {
      "needs_background": "light"
     },
     "output_type": "display_data"
    }
   ],
   "source": [
    "sns.scatterplot(y='followerCount',x='engagementRate',hue='sign',data=out)"
   ]
  },
  {
   "cell_type": "code",
   "execution_count": 21,
   "metadata": {
    "scrolled": false
   },
   "outputs": [
    {
     "data": {
      "text/html": [
       "<div>\n",
       "<style scoped>\n",
       "    .dataframe tbody tr th:only-of-type {\n",
       "        vertical-align: middle;\n",
       "    }\n",
       "\n",
       "    .dataframe tbody tr th {\n",
       "        vertical-align: top;\n",
       "    }\n",
       "\n",
       "    .dataframe thead th {\n",
       "        text-align: right;\n",
       "    }\n",
       "</style>\n",
       "<table border=\"1\" class=\"dataframe\">\n",
       "  <thead>\n",
       "    <tr style=\"text-align: right;\">\n",
       "      <th></th>\n",
       "      <th>followerCount</th>\n",
       "      <th>engagementRate</th>\n",
       "      <th>score</th>\n",
       "    </tr>\n",
       "    <tr>\n",
       "      <th>id</th>\n",
       "      <th></th>\n",
       "      <th></th>\n",
       "      <th></th>\n",
       "    </tr>\n",
       "  </thead>\n",
       "  <tbody>\n",
       "    <tr>\n",
       "      <td>11</td>\n",
       "      <td>95117</td>\n",
       "      <td>6.6</td>\n",
       "      <td>100.000000</td>\n",
       "    </tr>\n",
       "    <tr>\n",
       "      <td>13</td>\n",
       "      <td>90773</td>\n",
       "      <td>6.7</td>\n",
       "      <td>100.000000</td>\n",
       "    </tr>\n",
       "    <tr>\n",
       "      <td>41</td>\n",
       "      <td>81909</td>\n",
       "      <td>3.6</td>\n",
       "      <td>100.000000</td>\n",
       "    </tr>\n",
       "    <tr>\n",
       "      <td>25</td>\n",
       "      <td>77585</td>\n",
       "      <td>2.7</td>\n",
       "      <td>100.000000</td>\n",
       "    </tr>\n",
       "    <tr>\n",
       "      <td>75</td>\n",
       "      <td>94551</td>\n",
       "      <td>3.0</td>\n",
       "      <td>100.000000</td>\n",
       "    </tr>\n",
       "    <tr>\n",
       "      <td>72</td>\n",
       "      <td>61456</td>\n",
       "      <td>4.6</td>\n",
       "      <td>88.319051</td>\n",
       "    </tr>\n",
       "    <tr>\n",
       "      <td>59</td>\n",
       "      <td>58987</td>\n",
       "      <td>6.7</td>\n",
       "      <td>81.140494</td>\n",
       "    </tr>\n",
       "    <tr>\n",
       "      <td>60</td>\n",
       "      <td>58403</td>\n",
       "      <td>5.2</td>\n",
       "      <td>79.542997</td>\n",
       "    </tr>\n",
       "    <tr>\n",
       "      <td>53</td>\n",
       "      <td>56257</td>\n",
       "      <td>3.2</td>\n",
       "      <td>73.970936</td>\n",
       "    </tr>\n",
       "    <tr>\n",
       "      <td>19</td>\n",
       "      <td>55217</td>\n",
       "      <td>4.9</td>\n",
       "      <td>71.427633</td>\n",
       "    </tr>\n",
       "    <tr>\n",
       "      <td>61</td>\n",
       "      <td>53701</td>\n",
       "      <td>4.5</td>\n",
       "      <td>67.888595</td>\n",
       "    </tr>\n",
       "    <tr>\n",
       "      <td>76</td>\n",
       "      <td>39175</td>\n",
       "      <td>3.3</td>\n",
       "      <td>60.000000</td>\n",
       "    </tr>\n",
       "    <tr>\n",
       "      <td>2</td>\n",
       "      <td>38237</td>\n",
       "      <td>5.8</td>\n",
       "      <td>60.000000</td>\n",
       "    </tr>\n",
       "    <tr>\n",
       "      <td>67</td>\n",
       "      <td>31642</td>\n",
       "      <td>3.4</td>\n",
       "      <td>60.000000</td>\n",
       "    </tr>\n",
       "    <tr>\n",
       "      <td>36</td>\n",
       "      <td>30419</td>\n",
       "      <td>3.3</td>\n",
       "      <td>60.000000</td>\n",
       "    </tr>\n",
       "    <tr>\n",
       "      <td>12</td>\n",
       "      <td>28548</td>\n",
       "      <td>2.5</td>\n",
       "      <td>60.000000</td>\n",
       "    </tr>\n",
       "    <tr>\n",
       "      <td>93</td>\n",
       "      <td>27657</td>\n",
       "      <td>5.5</td>\n",
       "      <td>60.000000</td>\n",
       "    </tr>\n",
       "    <tr>\n",
       "      <td>71</td>\n",
       "      <td>25160</td>\n",
       "      <td>2.8</td>\n",
       "      <td>60.000000</td>\n",
       "    </tr>\n",
       "    <tr>\n",
       "      <td>6</td>\n",
       "      <td>24050</td>\n",
       "      <td>3.3</td>\n",
       "      <td>60.000000</td>\n",
       "    </tr>\n",
       "    <tr>\n",
       "      <td>74</td>\n",
       "      <td>22394</td>\n",
       "      <td>6.3</td>\n",
       "      <td>60.000000</td>\n",
       "    </tr>\n",
       "  </tbody>\n",
       "</table>\n",
       "</div>"
      ],
      "text/plain": [
       "    followerCount  engagementRate       score\n",
       "id                                           \n",
       "11          95117             6.6  100.000000\n",
       "13          90773             6.7  100.000000\n",
       "41          81909             3.6  100.000000\n",
       "25          77585             2.7  100.000000\n",
       "75          94551             3.0  100.000000\n",
       "72          61456             4.6   88.319051\n",
       "59          58987             6.7   81.140494\n",
       "60          58403             5.2   79.542997\n",
       "53          56257             3.2   73.970936\n",
       "19          55217             4.9   71.427633\n",
       "61          53701             4.5   67.888595\n",
       "76          39175             3.3   60.000000\n",
       "2           38237             5.8   60.000000\n",
       "67          31642             3.4   60.000000\n",
       "36          30419             3.3   60.000000\n",
       "12          28548             2.5   60.000000\n",
       "93          27657             5.5   60.000000\n",
       "71          25160             2.8   60.000000\n",
       "6           24050             3.3   60.000000\n",
       "74          22394             6.3   60.000000"
      ]
     },
     "execution_count": 21,
     "metadata": {},
     "output_type": "execute_result"
    }
   ],
   "source": [
    "chosen"
   ]
  },
  {
   "cell_type": "markdown",
   "metadata": {},
   "source": [
    "## Export to CSV"
   ]
  },
  {
   "cell_type": "code",
   "execution_count": 22,
   "metadata": {},
   "outputs": [],
   "source": [
    "chosen.reset_index()[['id']].to_csv('chosen.csv',index=False)"
   ]
  }
 ],
 "metadata": {
  "kernelspec": {
   "display_name": "Python 3",
   "language": "python",
   "name": "python3"
  },
  "language_info": {
   "codemirror_mode": {
    "name": "ipython",
    "version": 3
   },
   "file_extension": ".py",
   "mimetype": "text/x-python",
   "name": "python",
   "nbconvert_exporter": "python",
   "pygments_lexer": "ipython3",
   "version": "3.7.4"
  }
 },
 "nbformat": 4,
 "nbformat_minor": 2
}
